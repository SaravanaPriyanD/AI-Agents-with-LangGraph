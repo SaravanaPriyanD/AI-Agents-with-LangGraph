{
 "cells": [
  {
   "cell_type": "code",
   "execution_count": 1,
   "metadata": {},
   "outputs": [],
   "source": [
    "import os\n",
    "from dotenv import load_dotenv, find_dotenv\n",
    "_ = load_dotenv(find_dotenv())\n",
    "openai_api_key = os.environ[\"OPENAI_API_KEY\"]\n",
    "TAVILY_API_KEY = os.environ[\"TAVILY_API_KEY\"]"
   ]
  },
  {
   "cell_type": "code",
   "execution_count": 2,
   "metadata": {},
   "outputs": [],
   "source": [
    "os.environ[\"TAVILY_API_KEY\"] = TAVILY_API_KEY"
   ]
  },
  {
   "cell_type": "code",
   "execution_count": 3,
   "metadata": {},
   "outputs": [],
   "source": [
    "from langchain_openai import ChatOpenAI\n",
    "llm = ChatOpenAI(model=\"gpt-3.5-turbo-0125\")"
   ]
  },
  {
   "cell_type": "code",
   "execution_count": 4,
   "metadata": {},
   "outputs": [
    {
     "data": {
      "text/plain": [
       "[{'url': 'https://en.wikipedia.org/wiki/January_2025_Southern_California_wildfires',\n",
       "  'content': 'From January\\xa07 to 31, 2025, a series of 14 destructive wildfires affected the Los Angeles metropolitan area and San Diego County in California, United States.[5] The fires were exacerbated by drought conditions, low humidity, a buildup of vegetation from the previous winter, and hurricane-force Santa Ana winds, which in some places reached 100 miles per hour (160\\xa0km/h; 45\\xa0m/s). On January\\xa06, California governor Gavin Newsom stated he would assign 65 fire engines, 7 helicopters, 7 water tenders, and 109 workers to fighting wildfires that arose.[35] Mayor of Los Angeles Karen Bass warned residents that the windstorm could become one of the harshest in more than a decade, and cautioned them to avoid wind-downed power lines.[73] As Bass was out of the country for the inauguration of Ghanaian president John Mahama,[74] Council President Marqueece Harris-Dawson filled in as acting mayor.[75]'},\n",
       " {'url': 'https://www.wri.org/insights/los-angeles-fires-january-2025-explained',\n",
       "  'content': \"Data on WRI's Global Forest Watch platform shows just how uncommon these fires were, and how fire trends are changing as the planet warms. ![Image 6: Graphic showing over 200 fire alerts in Los Angeles between January and February 2025.](https://files.wri.org/d8/s3fs-public/styles/455_wide/s3/2025-02/la-fire-alerts-feb-4-2025-vs-average-wri.png?VersionId=S.O6ZFx0qOgyE42CiT6Ed.9Aknm23mGD&itok=0F74WDi-) Climate change is making wildfires more frequent and intense around the globe, resulting in larger forest fires worldwide. Hot and dry weather conditions brought on by climate change result in longer and more severe fire seasons and make bigger areas more prone to wildfires. New models to pay for these activities are emerging across the U.S. In California, Forest Resilience Bonds developed by Blue Forest and WRI raised $29 million for restoration and wildfire risk reduction across 63,000 acres in the Sierra Nevada mountains.\"},\n",
       " {'url': 'https://abcnews.go.com/US/live-updates/california-wildfires-los-angeles-weather/?id=117613594',\n",
       "  'content': \"California fires live updates: Fires rage amid warning of 'dangerous' weather - ABC News California fires live updates: Fires rage amid warning of 'dangerous' weather Firefighters work to clear a firebreak as the Palisades Fire, one of several simultaneous blazes that have ripped across Los Angeles County, burns in Mandeville Canyon, a neighborhood of Los Angeles, California, Jan. 12, 2025. There have been at least 24 fire-related deaths in the Palisades and Eaton Fires, according to the latest tally from the County of Los Angeles Department of Medical Examiner. California fires updates: Death toll in Los Angeles fires rises to 24 --------------------------------------------------------------------- * Jan 13, 1:26 AM California fires live updates: Fires rage amid warning of 'dangerous' weather ----------------------------------------------------------------------------- * 4 minutes ago\"}]"
      ]
     },
     "execution_count": 4,
     "metadata": {},
     "output_type": "execute_result"
    }
   ],
   "source": [
    "from langchain_community.tools.tavily_search import TavilySearchResults\n",
    "search = TavilySearchResults(max_results=3)\n",
    "search.invoke(\"tell me about 2025 LA wildfire updates\")"
   ]
  },
  {
   "cell_type": "code",
   "execution_count": 5,
   "metadata": {},
   "outputs": [],
   "source": [
    "tools = [search]"
   ]
  },
  {
   "cell_type": "code",
   "execution_count": 6,
   "metadata": {},
   "outputs": [
    {
     "data": {
      "text/plain": [
       "[TavilySearchResults(max_results=3)]"
      ]
     },
     "execution_count": 6,
     "metadata": {},
     "output_type": "execute_result"
    }
   ],
   "source": [
    "tools"
   ]
  },
  {
   "cell_type": "code",
   "execution_count": 7,
   "metadata": {},
   "outputs": [],
   "source": [
    "from langgraph.prebuilt import create_react_agent\n",
    "\n",
    "agent_executor = create_react_agent(llm, tools)"
   ]
  },
  {
   "cell_type": "code",
   "execution_count": 8,
   "metadata": {},
   "outputs": [
    {
     "data": {
      "text/plain": [
       "{'messages': [HumanMessage(content='tell me about 2025 LA wildfire updates', id='1c7d0a90-fa09-4433-8419-f1e338054632'),\n",
       "  AIMessage(content='', additional_kwargs={'tool_calls': [{'id': 'call_O9Xzk2YUChFeevZyxlJxPJJT', 'function': {'arguments': '{\"query\":\"2025 Los Angeles wildfire updates\"}', 'name': 'tavily_search_results_json'}, 'type': 'function'}]}, response_metadata={'token_usage': {'completion_tokens': 24, 'prompt_tokens': 90, 'total_tokens': 114, 'completion_tokens_details': {'accepted_prediction_tokens': 0, 'audio_tokens': 0, 'reasoning_tokens': 0, 'rejected_prediction_tokens': 0}, 'prompt_tokens_details': {'audio_tokens': 0, 'cached_tokens': 0}}, 'model_name': 'gpt-3.5-turbo-0125', 'system_fingerprint': None, 'finish_reason': 'tool_calls', 'logprobs': None}, id='run-356588d4-7f9c-41f1-b4fd-5ed29d4dc6ef-0', tool_calls=[{'name': 'tavily_search_results_json', 'args': {'query': '2025 Los Angeles wildfire updates'}, 'id': 'call_O9Xzk2YUChFeevZyxlJxPJJT', 'type': 'tool_call'}], usage_metadata={'input_tokens': 90, 'output_tokens': 24, 'total_tokens': 114}),\n",
       "  ToolMessage(content='[{\"url\": \"https://www.allhandsandhearts.org/storm-tracker/los-angeles-california-wildfires-january-2025/\", \"content\": \"In total, the Los Angeles wildfires continue to rage over 35,000 acres burned and over 10,000 structures destroyed (CAL FIRE). January 10, 2025 - 14:30 (EST) -\"}, {\"url\": \"https://climate.axa/publications/the-2025-la-wildfires-a-warning-for-californias-future/\", \"content\": \"This indicates that the FWI in January 2025 was substantially higher than the historical average highlighting the importance of extreme\\u202fclimate conditions as a driving factor of the LA wildfires. While few attribution studies on the 2025 LA wildfires exist, preliminary research indicates that the warm and dry conditions fueling these fires were 35% more likely to occur due to climate change (Barnes et al., 2025). Number of days per year with\\xa0FWI exceeding 21.3, indicating favourable climate\\xa0conditions for wildfire spread across Los Angeles County. Barnes, C., Keeping, T., n.d. Climate change increased the likelihood of wildfire disaster in highly exposed Los Angeles area. For more information, contact Luiz Galizia, , luiz.galizia@axaclimate.com\"}, {\"url\": \"https://en.wikipedia.org/wiki/January_2025_Southern_California_wildfires\", \"content\": \"From January\\xa07 to 31, 2025, a series of 14 destructive wildfires affected the Los Angeles metropolitan area and San Diego County in California, United States.[5] The fires were exacerbated by drought conditions, low humidity, a buildup of vegetation from the previous winter, and hurricane-force Santa Ana winds, which in some places reached 100 miles per hour (160\\xa0km/h; 45\\xa0m/s). On January\\xa06, California governor Gavin Newsom stated he would assign 65 fire engines, 7 helicopters, 7 water tenders, and 109 workers to fighting wildfires that arose.[35] Mayor of Los Angeles Karen Bass warned residents that the windstorm could become one of the harshest in more than a decade, and cautioned them to avoid wind-downed power lines.[73] As Bass was out of the country for the inauguration of Ghanaian president John Mahama,[74] Council President Marqueece Harris-Dawson filled in as acting mayor.[75]\"}]', name='tavily_search_results_json', id='6c54f187-466e-4843-bb25-6d532d3046f2', tool_call_id='call_O9Xzk2YUChFeevZyxlJxPJJT'),\n",
       "  AIMessage(content='In January 2025, a series of 14 destructive wildfires affected the Los Angeles metropolitan area and San Diego County in California. The fires burned over 35,000 acres and destroyed over 10,000 structures. These wildfires were exacerbated by drought conditions, low humidity, a buildup of vegetation from the previous winter, and hurricane-force Santa Ana winds, reaching speeds of 100 miles per hour. California Governor Gavin Newsom assigned resources to fight the wildfires, and Los Angeles Mayor Karen Bass warned residents about the severity of the windstorm. Preliminary research indicates that climate change increased the likelihood of such wildfire disasters. For more information, you can refer to the following sources:\\n\\n1. [All Hands and Hearts article on Los Angeles wildfires in January 2025](https://www.allhandsandhearts.org/storm-tracker/los-angeles-california-wildfires-january-2025/)\\n2. [AXA Climate publication on the 2025 LA wildfires and climate change impacts](https://climate.axa/publications/the-2025-la-wildfires-a-warning-for-californias-future/)\\n3. [Wikipedia article on the January 2025 Southern California wildfires](https://en.wikipedia.org/wiki/January_2025_Southern_California_wildfires)', response_metadata={'token_usage': {'completion_tokens': 265, 'prompt_tokens': 637, 'total_tokens': 902, 'completion_tokens_details': {'accepted_prediction_tokens': 0, 'audio_tokens': 0, 'reasoning_tokens': 0, 'rejected_prediction_tokens': 0}, 'prompt_tokens_details': {'audio_tokens': 0, 'cached_tokens': 0}}, 'model_name': 'gpt-3.5-turbo-0125', 'system_fingerprint': None, 'finish_reason': 'stop', 'logprobs': None}, id='run-9a2c855b-8da3-46c5-aa4c-68dca86ef4db-0', usage_metadata={'input_tokens': 637, 'output_tokens': 265, 'total_tokens': 902})]}"
      ]
     },
     "execution_count": 8,
     "metadata": {},
     "output_type": "execute_result"
    }
   ],
   "source": [
    "from langchain_core.messages import HumanMessage\n",
    "response = agent_executor.invoke({\"messages\": [HumanMessage(content=\"tell me about 2025 LA wildfire updates\")]})\n",
    "response"
   ]
  },
  {
   "cell_type": "code",
   "execution_count": 9,
   "metadata": {},
   "outputs": [
    {
     "data": {
      "text/plain": [
       "[HumanMessage(content='tell me about 2025 LA wildfire updates', id='1c7d0a90-fa09-4433-8419-f1e338054632'),\n",
       " AIMessage(content='', additional_kwargs={'tool_calls': [{'id': 'call_O9Xzk2YUChFeevZyxlJxPJJT', 'function': {'arguments': '{\"query\":\"2025 Los Angeles wildfire updates\"}', 'name': 'tavily_search_results_json'}, 'type': 'function'}]}, response_metadata={'token_usage': {'completion_tokens': 24, 'prompt_tokens': 90, 'total_tokens': 114, 'completion_tokens_details': {'accepted_prediction_tokens': 0, 'audio_tokens': 0, 'reasoning_tokens': 0, 'rejected_prediction_tokens': 0}, 'prompt_tokens_details': {'audio_tokens': 0, 'cached_tokens': 0}}, 'model_name': 'gpt-3.5-turbo-0125', 'system_fingerprint': None, 'finish_reason': 'tool_calls', 'logprobs': None}, id='run-356588d4-7f9c-41f1-b4fd-5ed29d4dc6ef-0', tool_calls=[{'name': 'tavily_search_results_json', 'args': {'query': '2025 Los Angeles wildfire updates'}, 'id': 'call_O9Xzk2YUChFeevZyxlJxPJJT', 'type': 'tool_call'}], usage_metadata={'input_tokens': 90, 'output_tokens': 24, 'total_tokens': 114}),\n",
       " ToolMessage(content='[{\"url\": \"https://www.allhandsandhearts.org/storm-tracker/los-angeles-california-wildfires-january-2025/\", \"content\": \"In total, the Los Angeles wildfires continue to rage over 35,000 acres burned and over 10,000 structures destroyed (CAL FIRE). January 10, 2025 - 14:30 (EST) -\"}, {\"url\": \"https://climate.axa/publications/the-2025-la-wildfires-a-warning-for-californias-future/\", \"content\": \"This indicates that the FWI in January 2025 was substantially higher than the historical average highlighting the importance of extreme\\u202fclimate conditions as a driving factor of the LA wildfires. While few attribution studies on the 2025 LA wildfires exist, preliminary research indicates that the warm and dry conditions fueling these fires were 35% more likely to occur due to climate change (Barnes et al., 2025). Number of days per year with\\xa0FWI exceeding 21.3, indicating favourable climate\\xa0conditions for wildfire spread across Los Angeles County. Barnes, C., Keeping, T., n.d. Climate change increased the likelihood of wildfire disaster in highly exposed Los Angeles area. For more information, contact Luiz Galizia, , luiz.galizia@axaclimate.com\"}, {\"url\": \"https://en.wikipedia.org/wiki/January_2025_Southern_California_wildfires\", \"content\": \"From January\\xa07 to 31, 2025, a series of 14 destructive wildfires affected the Los Angeles metropolitan area and San Diego County in California, United States.[5] The fires were exacerbated by drought conditions, low humidity, a buildup of vegetation from the previous winter, and hurricane-force Santa Ana winds, which in some places reached 100 miles per hour (160\\xa0km/h; 45\\xa0m/s). On January\\xa06, California governor Gavin Newsom stated he would assign 65 fire engines, 7 helicopters, 7 water tenders, and 109 workers to fighting wildfires that arose.[35] Mayor of Los Angeles Karen Bass warned residents that the windstorm could become one of the harshest in more than a decade, and cautioned them to avoid wind-downed power lines.[73] As Bass was out of the country for the inauguration of Ghanaian president John Mahama,[74] Council President Marqueece Harris-Dawson filled in as acting mayor.[75]\"}]', name='tavily_search_results_json', id='6c54f187-466e-4843-bb25-6d532d3046f2', tool_call_id='call_O9Xzk2YUChFeevZyxlJxPJJT'),\n",
       " AIMessage(content='In January 2025, a series of 14 destructive wildfires affected the Los Angeles metropolitan area and San Diego County in California. The fires burned over 35,000 acres and destroyed over 10,000 structures. These wildfires were exacerbated by drought conditions, low humidity, a buildup of vegetation from the previous winter, and hurricane-force Santa Ana winds, reaching speeds of 100 miles per hour. California Governor Gavin Newsom assigned resources to fight the wildfires, and Los Angeles Mayor Karen Bass warned residents about the severity of the windstorm. Preliminary research indicates that climate change increased the likelihood of such wildfire disasters. For more information, you can refer to the following sources:\\n\\n1. [All Hands and Hearts article on Los Angeles wildfires in January 2025](https://www.allhandsandhearts.org/storm-tracker/los-angeles-california-wildfires-january-2025/)\\n2. [AXA Climate publication on the 2025 LA wildfires and climate change impacts](https://climate.axa/publications/the-2025-la-wildfires-a-warning-for-californias-future/)\\n3. [Wikipedia article on the January 2025 Southern California wildfires](https://en.wikipedia.org/wiki/January_2025_Southern_California_wildfires)', response_metadata={'token_usage': {'completion_tokens': 265, 'prompt_tokens': 637, 'total_tokens': 902, 'completion_tokens_details': {'accepted_prediction_tokens': 0, 'audio_tokens': 0, 'reasoning_tokens': 0, 'rejected_prediction_tokens': 0}, 'prompt_tokens_details': {'audio_tokens': 0, 'cached_tokens': 0}}, 'model_name': 'gpt-3.5-turbo-0125', 'system_fingerprint': None, 'finish_reason': 'stop', 'logprobs': None}, id='run-9a2c855b-8da3-46c5-aa4c-68dca86ef4db-0', usage_metadata={'input_tokens': 637, 'output_tokens': 265, 'total_tokens': 902})]"
      ]
     },
     "execution_count": 9,
     "metadata": {},
     "output_type": "execute_result"
    }
   ],
   "source": [
    "response[\"messages\"]"
   ]
  },
  {
   "cell_type": "markdown",
   "metadata": {},
   "source": [
    "## Adding memory\n",
    "* Adding memory in LangGraph is very similar to what we did with LangChain."
   ]
  },
  {
   "cell_type": "code",
   "execution_count": 10,
   "metadata": {},
   "outputs": [],
   "source": [
    "from langgraph.checkpoint.memory import MemorySaver\n",
    "memory = MemorySaver()"
   ]
  },
  {
   "cell_type": "code",
   "execution_count": 11,
   "metadata": {},
   "outputs": [],
   "source": [
    "agent_executor = create_react_agent(llm, tools, checkpointer=memory)"
   ]
  },
  {
   "cell_type": "code",
   "execution_count": 12,
   "metadata": {},
   "outputs": [],
   "source": [
    "config = {\"configurable\": {\"thread_id\": \"001\"}}"
   ]
  },
  {
   "cell_type": "code",
   "execution_count": 13,
   "metadata": {},
   "outputs": [
    {
     "name": "stdout",
     "output_type": "stream",
     "text": [
      "{'agent': {'messages': [AIMessage(content='', additional_kwargs={'tool_calls': [{'id': 'call_cKualkM8nAR2QMz6OK78gTeg', 'function': {'arguments': '{\"query\":\"2024 soccer Eurocup winner\"}', 'name': 'tavily_search_results_json'}, 'type': 'function'}]}, response_metadata={'token_usage': {'completion_tokens': 24, 'prompt_tokens': 91, 'total_tokens': 115, 'completion_tokens_details': {'accepted_prediction_tokens': 0, 'audio_tokens': 0, 'reasoning_tokens': 0, 'rejected_prediction_tokens': 0}, 'prompt_tokens_details': {'audio_tokens': 0, 'cached_tokens': 0}}, 'model_name': 'gpt-3.5-turbo-0125', 'system_fingerprint': None, 'finish_reason': 'tool_calls', 'logprobs': None}, id='run-537a0571-3399-4077-8a12-452bb1a013b2-0', tool_calls=[{'name': 'tavily_search_results_json', 'args': {'query': '2024 soccer Eurocup winner'}, 'id': 'call_cKualkM8nAR2QMz6OK78gTeg', 'type': 'tool_call'}], usage_metadata={'input_tokens': 91, 'output_tokens': 24, 'total_tokens': 115})]}}\n",
      "----\n",
      "{'tools': {'messages': [ToolMessage(content='[{\"url\": \"https://www.youtube.com/watch?v=jPG0J8PrrrQ\", \"content\": \"Euro Cup 2024 final highlights: Spain wins record 4th title with a 2-1 victory against England\\\\nThe Economic Times\\\\n2920000 subscribers\\\\n7 likes\\\\n7660 views\\\\n15 Jul 2024\\\\nSpain secured a record fourth European Championship title on Sunday after Mikel Oyarzabal\\'s 87th-minute goal clinched a 2-1 victory over England, extending England\\'s long wait for a major trophy. Watch!\\\\n\\\\n\\\\n► Subscribe to The Economic Times for the latest video updates. It\\'s free! - https://www.youtube.com/TheEconomicTimes?sub_confirmation=1\\\\n\\\\n► More Videos @ ETTV - https://economictimes.indiatimes.com/TV\\\\n\\\\n► https://EconomicTimes.com\\\\n\\\\n► For business news on the go, download ET app:\\\\nhttps://etapp.onelink.me/tOvY/EconomicTimesApp\\\\n\\\\nFollow ET on:\\\\n\\\\n► Facebook - https://www.facebook.com/EconomicTimes \\\\n► Twitter - https://www.twitter.com/economictimes\\\\n► LinkedIn - https://www.linkedin.com/company/economictimes\\\\n► Instagram - https://www.instagram.com/the_economic_times\\\\n► Flipboard - https://flipboard.com/@economictimes\\\\n\\\\n#news #latestnews #economictimes #ET #TheEconomicTimes #businessnews\\\\n1 comments\\\\n\"}, {\"url\": \"https://www.uefa.com/euro2024/news/028f-1b4e4a9a6d42-253a2c18efdf-1000--uefa-euro-2024-meet-the-winners/\", \"content\": \"UEFA EURO 2024 UEFA EURO 2024 - UEFA EURO 2024: Meet the winners - News  UEFA EURO 2024: Meet the winners Get the full lowdown on UEFA EURO 2024 winners Spain. How they got there, top scorers, pedigree, key players and the coach – all you need to know about UEFA EURO 2024 winners Spain. He led Spanish national teams to EURO glory at age-group levels – Under-19s in 2015 and U21s in 2019 – and his senior team beat Italy and Croatia in winning the UEFA Nations League last summer. Live 14/07/2024 Lowdown: EURO 2024 final ------------------------ Spain beat England 2-1 in the EURO 2024 final at Olympiastadion Berlin on Sunday 14 July. UEFA EURO 2024\"}, {\"url\": \"https://www.cnn.com/2024/07/14/sport/spain-england-euro-2024-final-spt-intl/index.html\", \"content\": \"Spain wins Euro 2024, defeating England 2-1 in a dramatic final to claim record fourth European Championship | CNN Football Tennis Golf Motorsport US Sports Olympics Climbing Esports Hockey CNN10 About CNN Spain won a record-breaking fourth European Championship, defeating England 2-1 following a drama-filled second half in the Euro 2024 final on Sunday in Berlin. Nico Williams (right) celebrates with his teammate Lamine Yamal after scoring Spain\\'s first goal against England in the Euro 2024 final. But just when England was building a head of steam, Spain almost got a second through Yamal – who became the youngest player ever to feature in a Euro or World Cup final when he stepped onto the field on Sunday night – but Jordan Pickford stuck out a big hand to deny the Barcelona prodigy. CNN10 About CNN\"}]', name='tavily_search_results_json', tool_call_id='call_cKualkM8nAR2QMz6OK78gTeg')]}}\n",
      "----\n",
      "{'agent': {'messages': [AIMessage(content='Spain won the 2024 soccer Eurocup by defeating England with a score of 2-1 in the final.', response_metadata={'token_usage': {'completion_tokens': 26, 'prompt_tokens': 890, 'total_tokens': 916, 'completion_tokens_details': {'accepted_prediction_tokens': 0, 'audio_tokens': 0, 'reasoning_tokens': 0, 'rejected_prediction_tokens': 0}, 'prompt_tokens_details': {'audio_tokens': 0, 'cached_tokens': 0}}, 'model_name': 'gpt-3.5-turbo-0125', 'system_fingerprint': None, 'finish_reason': 'stop', 'logprobs': None}, id='run-394b2372-400a-4aad-af16-e4a5ca3a94e5-0', usage_metadata={'input_tokens': 890, 'output_tokens': 26, 'total_tokens': 916})]}}\n",
      "----\n"
     ]
    }
   ],
   "source": [
    "for chunk in agent_executor.stream(\n",
    "    {\"messages\": [HumanMessage(content=\"Who won the 2024 soccer Eurocup?\")]}, config\n",
    "):\n",
    "    print(chunk)\n",
    "    print(\"----\")"
   ]
  },
  {
   "cell_type": "code",
   "execution_count": 14,
   "metadata": {},
   "outputs": [
    {
     "name": "stdout",
     "output_type": "stream",
     "text": [
      "{'agent': {'messages': [AIMessage(content='The top stars of the Spain team that won the 2024 soccer Eurocup include Mikel Oyarzabal, Nico Williams, and Lamine Yamal.', response_metadata={'token_usage': {'completion_tokens': 35, 'prompt_tokens': 932, 'total_tokens': 967, 'completion_tokens_details': {'accepted_prediction_tokens': 0, 'audio_tokens': 0, 'reasoning_tokens': 0, 'rejected_prediction_tokens': 0}, 'prompt_tokens_details': {'audio_tokens': 0, 'cached_tokens': 0}}, 'model_name': 'gpt-3.5-turbo-0125', 'system_fingerprint': None, 'finish_reason': 'stop', 'logprobs': None}, id='run-7a7d13ff-fdec-4817-bb02-609232530fbf-0', usage_metadata={'input_tokens': 932, 'output_tokens': 35, 'total_tokens': 967})]}}\n",
      "----\n"
     ]
    }
   ],
   "source": [
    "for chunk in agent_executor.stream(\n",
    "    {\"messages\": [HumanMessage(content=\"Who were the top stars of that winner team?\")]}, config\n",
    "):\n",
    "    print(chunk)\n",
    "    print(\"----\")"
   ]
  },
  {
   "cell_type": "code",
   "execution_count": 16,
   "metadata": {},
   "outputs": [
    {
     "name": "stdout",
     "output_type": "stream",
     "text": [
      "{'agent': {'messages': [AIMessage(content='We were talking about the Spain national soccer team, which won the 2024 soccer Eurocup by defeating England in the final.', response_metadata={'token_usage': {'completion_tokens': 28, 'prompt_tokens': 981, 'total_tokens': 1009, 'completion_tokens_details': {'accepted_prediction_tokens': 0, 'audio_tokens': 0, 'reasoning_tokens': 0, 'rejected_prediction_tokens': 0}, 'prompt_tokens_details': {'audio_tokens': 0, 'cached_tokens': 0}}, 'model_name': 'gpt-3.5-turbo-0125', 'system_fingerprint': None, 'finish_reason': 'stop', 'logprobs': None}, id='run-e72aa9d0-b83d-4782-8b77-fd2f4f8eb543-0', usage_metadata={'input_tokens': 981, 'output_tokens': 28, 'total_tokens': 1009})]}}\n",
      "----\n"
     ]
    }
   ],
   "source": [
    "config = {\"configurable\": {\"thread_id\": \"001\"}}\n",
    "for chunk in agent_executor.stream(\n",
    "    {\"messages\": [HumanMessage(content=\"About what soccer team we were talking?\")]}, config\n",
    "):\n",
    "    print(chunk)\n",
    "    print(\"----\")"
   ]
  },
  {
   "cell_type": "code",
   "execution_count": null,
   "metadata": {},
   "outputs": [],
   "source": []
  }
 ],
 "metadata": {
  "kernelspec": {
   "display_name": "agent-lg",
   "language": "python",
   "name": "python3"
  },
  "language_info": {
   "codemirror_mode": {
    "name": "ipython",
    "version": 3
   },
   "file_extension": ".py",
   "mimetype": "text/x-python",
   "name": "python",
   "nbconvert_exporter": "python",
   "pygments_lexer": "ipython3",
   "version": "3.12.9"
  }
 },
 "nbformat": 4,
 "nbformat_minor": 2
}
