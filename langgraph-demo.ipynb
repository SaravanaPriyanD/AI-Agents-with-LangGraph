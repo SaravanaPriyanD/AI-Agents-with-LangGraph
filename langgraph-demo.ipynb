{
 "cells": [
  {
   "cell_type": "code",
   "execution_count": 1,
   "metadata": {},
   "outputs": [],
   "source": [
    "import os\n",
    "from dotenv import load_dotenv, find_dotenv\n",
    "_ = load_dotenv(find_dotenv())\n",
    "openai_api_key = os.environ[\"OPENAI_API_KEY\"]\n",
    "TAVILY_API_KEY = os.environ[\"TAVILY_API_KEY\"]"
   ]
  },
  {
   "cell_type": "code",
   "execution_count": 2,
   "metadata": {},
   "outputs": [],
   "source": [
    "os.environ[\"TAVILY_API_KEY\"] = TAVILY_API_KEY"
   ]
  },
  {
   "cell_type": "code",
   "execution_count": 3,
   "metadata": {},
   "outputs": [],
   "source": [
    "from langchain_openai import ChatOpenAI\n",
    "llm = ChatOpenAI(model=\"gpt-3.5-turbo-0125\")"
   ]
  },
  {
   "cell_type": "code",
   "execution_count": 4,
   "metadata": {},
   "outputs": [
    {
     "data": {
      "text/plain": [
       "[{'url': 'https://apnews.com/live/los-angeles-wildfires-updates-1-13-25',\n",
       "  'content': 'Los Angeles wildfires: Updates from Jan. 13, 2025 | AP News 7 of 10\\xa0|\\xa0Los Angeles Fire Department’s Mike Alvarez works on extinguishing hot spots in the aftermath of the Palisades Fire as a Malibu resident, top right, watches the sunset from atop his beachfront home along the Pacific Coast Highway in Malibu, Calif., Sunday, Jan. 12, 2025. 7 of 10\\xa0|\\xa0Los Angeles Fire Department’s Mike Alvarez works on extinguishing hot spots in the aftermath of the Palisades Fire as a Malibu resident, top right, watches the sunset from atop his beachfront home along the Pacific Coast Highway in Malibu, Calif., Sunday, Jan. 12, 2025. “We’re absolutely better prepared for this coming,” Los Angeles County Fire Chief Anthony Marrone said when asked what will be different this time with similarly strong winds forecast as last week which fueled the massive fires.'},\n",
       " {'url': 'https://edition.cnn.com/weather/live-news/los-angeles-wildfires-palisades-eaton-california-01-10-25-hnk/index.html',\n",
       "  'content': 'The level of devastation in Altadena from the wildfires “looks like a war zone,” said Los Angeles County Board of Supervisors Chair Kathryn Barger. “For all the fires that we’re dealing with, evacuations orders stand at approximately 153,000 residents that are under evacuation orders, and approximately 57,830 structures at risk,” Los Angeles County Sheriff Robert Luna said. “I personally want to make sure that we thank and show our deepest gratitude to all of our Los Angeles city firefighters and all of our partners as we’ve been battling these fires … (and are) going into day four,” she said. Erik Scott, spokesperson for the Los Angeles Fire Department, said Wednesday that the storage tanks in the Palisades area had been filled in advance of the fires, but this preparation fell short of meeting “extreme demand.”'},\n",
       " {'url': 'https://abcnews.go.com/US/live-updates/california-wildfires-los-angeles-weather/?id=117613594',\n",
       "  'content': \"California fires live updates: Fires rage amid warning of 'dangerous' weather - ABC News California fires live updates: Fires rage amid warning of 'dangerous' weather Firefighters work to clear a firebreak as the Palisades Fire, one of several simultaneous blazes that have ripped across Los Angeles County, burns in Mandeville Canyon, a neighborhood of Los Angeles, California, Jan. 12, 2025. There have been at least 24 fire-related deaths in the Palisades and Eaton Fires, according to the latest tally from the County of Los Angeles Department of Medical Examiner. California fires updates: Death toll in Los Angeles fires rises to 24 --------------------------------------------------------------------- * Jan 13, 1:26 AM California fires live updates: Fires rage amid warning of 'dangerous' weather ----------------------------------------------------------------------------- * 4 minutes ago\"}]"
      ]
     },
     "execution_count": 4,
     "metadata": {},
     "output_type": "execute_result"
    }
   ],
   "source": [
    "from langchain_community.tools.tavily_search import TavilySearchResults\n",
    "search = TavilySearchResults(max_results=3)\n",
    "search.invoke(\"tell me about 2025 LA wildfire updates\")"
   ]
  },
  {
   "cell_type": "code",
   "execution_count": 5,
   "metadata": {},
   "outputs": [],
   "source": [
    "tools = [search]"
   ]
  },
  {
   "cell_type": "code",
   "execution_count": 6,
   "metadata": {},
   "outputs": [
    {
     "data": {
      "text/plain": [
       "[TavilySearchResults(max_results=3)]"
      ]
     },
     "execution_count": 6,
     "metadata": {},
     "output_type": "execute_result"
    }
   ],
   "source": [
    "tools"
   ]
  },
  {
   "cell_type": "code",
   "execution_count": 7,
   "metadata": {},
   "outputs": [],
   "source": [
    "from langgraph.prebuilt import create_react_agent\n",
    "\n",
    "agent_executor = create_react_agent(llm, tools)"
   ]
  },
  {
   "cell_type": "code",
   "execution_count": 8,
   "metadata": {},
   "outputs": [
    {
     "data": {
      "text/plain": [
       "{'messages': [HumanMessage(content='tell me about 2025 LA wildfire updates', id='029265a1-dfda-492d-b1c4-13792efde72b'),\n",
       "  AIMessage(content='', additional_kwargs={'tool_calls': [{'id': 'call_0pnUQuhJU7TiQ3H18HSZhRgO', 'function': {'arguments': '{\"query\":\"2025 Los Angeles wildfire updates\"}', 'name': 'tavily_search_results_json'}, 'type': 'function'}]}, response_metadata={'token_usage': {'completion_tokens': 24, 'prompt_tokens': 90, 'total_tokens': 114, 'completion_tokens_details': {'accepted_prediction_tokens': 0, 'audio_tokens': 0, 'reasoning_tokens': 0, 'rejected_prediction_tokens': 0}, 'prompt_tokens_details': {'audio_tokens': 0, 'cached_tokens': 0}}, 'model_name': 'gpt-3.5-turbo-0125', 'system_fingerprint': None, 'finish_reason': 'tool_calls', 'logprobs': None}, id='run-51d00fc8-f63a-417c-8879-d1811f391e80-0', tool_calls=[{'name': 'tavily_search_results_json', 'args': {'query': '2025 Los Angeles wildfire updates'}, 'id': 'call_0pnUQuhJU7TiQ3H18HSZhRgO', 'type': 'tool_call'}], usage_metadata={'input_tokens': 90, 'output_tokens': 24, 'total_tokens': 114}),\n",
       "  ToolMessage(content='[{\"url\": \"https://apnews.com/live/wildfire-california-los-angeles-updates\", \"content\": \"Los Angeles wildfires live updates: At least 10 dead as Eaton, Palisades and Kenneth fires blaze | AP News AP News Alerts Keep your pulse on the news with breaking news alerts from The AP.The Morning Wire Our flagship newsletter breaks down the biggest headlines of the day.Ground Game Exclusive insights and key stories from the world of politics.Beyond the Story Executive Editor Julie Pace brings you behind the scenes of the AP newsroom.AP Top 25 Poll Alerts Get email alerts for every college football Top 25 Poll release.AP Top 25 Women\\'s Basketball Poll Alerts Women\\'s college basketball poll alerts and updates.\"}, {\"url\": \"https://www.cnn.com/weather/live-news/fires-los-angeles-california-01-16-25/index.html\", \"content\": \"Live updates: Los Angeles wildfires, Palisades and Eaton fires, Auto fire in Ventura | CNN CNN10 About CNN • A window of dangerous fire weather conditions has closed, but firefighters battling the Los Angeles blazes are still contending with “extreme hazards and the potential for fire growth,” a Cal Fire official said. • For ways to help Los Angeles County residents, visit CNN Impact Your World. With conditions improving across Southern California Thursday through the weekend, the National Weather Service in Los Angeles is looking ahead to the potential of another Santa Ana Wind Event that may begin early next week. CNN10 About CNN\"}, {\"url\": \"https://abcnews.go.com/US/live-updates/california-wildfires-los-angeles-weather/?id=117613594\", \"content\": \"California fires live updates: Fires rage amid warning of \\'dangerous\\' weather - ABC News California fires live updates: Fires rage amid warning of \\'dangerous\\' weather Firefighters work to clear a firebreak as the Palisades Fire, one of several simultaneous blazes that have ripped across Los Angeles County, burns in Mandeville Canyon, a neighborhood of Los Angeles, California, Jan. 12, 2025. There have been at least 24 fire-related deaths in the Palisades and Eaton Fires, according to the latest tally from the County of Los Angeles Department of Medical Examiner. California fires updates: Death toll in Los Angeles fires rises to 24 --------------------------------------------------------------------- * Jan 13, 1:26 AM California fires live updates: Fires rage amid warning of \\'dangerous\\' weather ----------------------------------------------------------------------------- * 4 minutes ago\"}]', name='tavily_search_results_json', id='4ccdaf68-9eb4-465b-9a1b-0100945aea74', tool_call_id='call_0pnUQuhJU7TiQ3H18HSZhRgO'),\n",
       "  AIMessage(content='Here are some updates on the 2025 Los Angeles wildfires:\\n\\n1. [AP News](https://apnews.com/live/wildfire-california-los-angeles-updates) reports that at least 10 people have died as the Eaton, Palisades, and Kenneth fires continue to blaze in Los Angeles.\\n\\n2. [CNN](https://www.cnn.com/weather/live-news/fires-los-angeles-california-01-16-25/index.html) mentions that the window of dangerous fire weather conditions has closed, but firefighters are still facing extreme hazards and the potential for fire growth in the Los Angeles blazes.\\n\\n3. [ABC News](https://abcnews.go.com/US/live-updates/california-wildfires-los-angeles-weather/?id=117613594) highlights that there have been at least 24 fire-related deaths in the Palisades and Eaton Fires in Los Angeles County. Firefighters are working hard to contain the wildfires amid warnings of dangerous weather conditions.', response_metadata={'token_usage': {'completion_tokens': 208, 'prompt_tokens': 642, 'total_tokens': 850, 'completion_tokens_details': {'accepted_prediction_tokens': 0, 'audio_tokens': 0, 'reasoning_tokens': 0, 'rejected_prediction_tokens': 0}, 'prompt_tokens_details': {'audio_tokens': 0, 'cached_tokens': 0}}, 'model_name': 'gpt-3.5-turbo-0125', 'system_fingerprint': None, 'finish_reason': 'stop', 'logprobs': None}, id='run-94426716-f3e2-4783-8288-14bdfb1268e9-0', usage_metadata={'input_tokens': 642, 'output_tokens': 208, 'total_tokens': 850})]}"
      ]
     },
     "execution_count": 8,
     "metadata": {},
     "output_type": "execute_result"
    }
   ],
   "source": [
    "from langchain_core.messages import HumanMessage\n",
    "response = agent_executor.invoke({\"messages\": [HumanMessage(content=\"tell me about 2025 LA wildfire updates\")]})\n",
    "response"
   ]
  },
  {
   "cell_type": "code",
   "execution_count": 9,
   "metadata": {},
   "outputs": [
    {
     "data": {
      "text/plain": [
       "[HumanMessage(content='tell me about 2025 LA wildfire updates', id='029265a1-dfda-492d-b1c4-13792efde72b'),\n",
       " AIMessage(content='', additional_kwargs={'tool_calls': [{'id': 'call_0pnUQuhJU7TiQ3H18HSZhRgO', 'function': {'arguments': '{\"query\":\"2025 Los Angeles wildfire updates\"}', 'name': 'tavily_search_results_json'}, 'type': 'function'}]}, response_metadata={'token_usage': {'completion_tokens': 24, 'prompt_tokens': 90, 'total_tokens': 114, 'completion_tokens_details': {'accepted_prediction_tokens': 0, 'audio_tokens': 0, 'reasoning_tokens': 0, 'rejected_prediction_tokens': 0}, 'prompt_tokens_details': {'audio_tokens': 0, 'cached_tokens': 0}}, 'model_name': 'gpt-3.5-turbo-0125', 'system_fingerprint': None, 'finish_reason': 'tool_calls', 'logprobs': None}, id='run-51d00fc8-f63a-417c-8879-d1811f391e80-0', tool_calls=[{'name': 'tavily_search_results_json', 'args': {'query': '2025 Los Angeles wildfire updates'}, 'id': 'call_0pnUQuhJU7TiQ3H18HSZhRgO', 'type': 'tool_call'}], usage_metadata={'input_tokens': 90, 'output_tokens': 24, 'total_tokens': 114}),\n",
       " ToolMessage(content='[{\"url\": \"https://apnews.com/live/wildfire-california-los-angeles-updates\", \"content\": \"Los Angeles wildfires live updates: At least 10 dead as Eaton, Palisades and Kenneth fires blaze | AP News AP News Alerts Keep your pulse on the news with breaking news alerts from The AP.The Morning Wire Our flagship newsletter breaks down the biggest headlines of the day.Ground Game Exclusive insights and key stories from the world of politics.Beyond the Story Executive Editor Julie Pace brings you behind the scenes of the AP newsroom.AP Top 25 Poll Alerts Get email alerts for every college football Top 25 Poll release.AP Top 25 Women\\'s Basketball Poll Alerts Women\\'s college basketball poll alerts and updates.\"}, {\"url\": \"https://www.cnn.com/weather/live-news/fires-los-angeles-california-01-16-25/index.html\", \"content\": \"Live updates: Los Angeles wildfires, Palisades and Eaton fires, Auto fire in Ventura | CNN CNN10 About CNN • A window of dangerous fire weather conditions has closed, but firefighters battling the Los Angeles blazes are still contending with “extreme hazards and the potential for fire growth,” a Cal Fire official said. • For ways to help Los Angeles County residents, visit CNN Impact Your World. With conditions improving across Southern California Thursday through the weekend, the National Weather Service in Los Angeles is looking ahead to the potential of another Santa Ana Wind Event that may begin early next week. CNN10 About CNN\"}, {\"url\": \"https://abcnews.go.com/US/live-updates/california-wildfires-los-angeles-weather/?id=117613594\", \"content\": \"California fires live updates: Fires rage amid warning of \\'dangerous\\' weather - ABC News California fires live updates: Fires rage amid warning of \\'dangerous\\' weather Firefighters work to clear a firebreak as the Palisades Fire, one of several simultaneous blazes that have ripped across Los Angeles County, burns in Mandeville Canyon, a neighborhood of Los Angeles, California, Jan. 12, 2025. There have been at least 24 fire-related deaths in the Palisades and Eaton Fires, according to the latest tally from the County of Los Angeles Department of Medical Examiner. California fires updates: Death toll in Los Angeles fires rises to 24 --------------------------------------------------------------------- * Jan 13, 1:26 AM California fires live updates: Fires rage amid warning of \\'dangerous\\' weather ----------------------------------------------------------------------------- * 4 minutes ago\"}]', name='tavily_search_results_json', id='4ccdaf68-9eb4-465b-9a1b-0100945aea74', tool_call_id='call_0pnUQuhJU7TiQ3H18HSZhRgO'),\n",
       " AIMessage(content='Here are some updates on the 2025 Los Angeles wildfires:\\n\\n1. [AP News](https://apnews.com/live/wildfire-california-los-angeles-updates) reports that at least 10 people have died as the Eaton, Palisades, and Kenneth fires continue to blaze in Los Angeles.\\n\\n2. [CNN](https://www.cnn.com/weather/live-news/fires-los-angeles-california-01-16-25/index.html) mentions that the window of dangerous fire weather conditions has closed, but firefighters are still facing extreme hazards and the potential for fire growth in the Los Angeles blazes.\\n\\n3. [ABC News](https://abcnews.go.com/US/live-updates/california-wildfires-los-angeles-weather/?id=117613594) highlights that there have been at least 24 fire-related deaths in the Palisades and Eaton Fires in Los Angeles County. Firefighters are working hard to contain the wildfires amid warnings of dangerous weather conditions.', response_metadata={'token_usage': {'completion_tokens': 208, 'prompt_tokens': 642, 'total_tokens': 850, 'completion_tokens_details': {'accepted_prediction_tokens': 0, 'audio_tokens': 0, 'reasoning_tokens': 0, 'rejected_prediction_tokens': 0}, 'prompt_tokens_details': {'audio_tokens': 0, 'cached_tokens': 0}}, 'model_name': 'gpt-3.5-turbo-0125', 'system_fingerprint': None, 'finish_reason': 'stop', 'logprobs': None}, id='run-94426716-f3e2-4783-8288-14bdfb1268e9-0', usage_metadata={'input_tokens': 642, 'output_tokens': 208, 'total_tokens': 850})]"
      ]
     },
     "execution_count": 9,
     "metadata": {},
     "output_type": "execute_result"
    }
   ],
   "source": [
    "response[\"messages\"]"
   ]
  },
  {
   "cell_type": "markdown",
   "metadata": {},
   "source": [
    "## Adding memory\n",
    "* Adding memory in LangGraph is very similar to what we did with LangChain."
   ]
  },
  {
   "cell_type": "code",
   "execution_count": 10,
   "metadata": {},
   "outputs": [],
   "source": [
    "from langgraph.checkpoint.memory import MemorySaver\n",
    "memory = MemorySaver()"
   ]
  },
  {
   "cell_type": "code",
   "execution_count": 11,
   "metadata": {},
   "outputs": [],
   "source": [
    "agent_executor = create_react_agent(llm, tools, checkpointer=memory)"
   ]
  },
  {
   "cell_type": "code",
   "execution_count": 12,
   "metadata": {},
   "outputs": [],
   "source": [
    "config = {\"configurable\": {\"thread_id\": \"001\"}}"
   ]
  },
  {
   "cell_type": "code",
   "execution_count": 13,
   "metadata": {},
   "outputs": [
    {
     "name": "stdout",
     "output_type": "stream",
     "text": [
      "{'agent': {'messages': [AIMessage(content='', additional_kwargs={'tool_calls': [{'id': 'call_E4dfQzVMzl8ZIw3AvgDqLZJv', 'function': {'arguments': '{\"query\":\"2024 soccer Eurocup winner\"}', 'name': 'tavily_search_results_json'}, 'type': 'function'}]}, response_metadata={'token_usage': {'completion_tokens': 24, 'prompt_tokens': 91, 'total_tokens': 115, 'completion_tokens_details': {'accepted_prediction_tokens': 0, 'audio_tokens': 0, 'reasoning_tokens': 0, 'rejected_prediction_tokens': 0}, 'prompt_tokens_details': {'audio_tokens': 0, 'cached_tokens': 0}}, 'model_name': 'gpt-3.5-turbo-0125', 'system_fingerprint': None, 'finish_reason': 'tool_calls', 'logprobs': None}, id='run-90d57170-1481-45ce-bd9a-a63b0948a8c7-0', tool_calls=[{'name': 'tavily_search_results_json', 'args': {'query': '2024 soccer Eurocup winner'}, 'id': 'call_E4dfQzVMzl8ZIw3AvgDqLZJv', 'type': 'tool_call'}], usage_metadata={'input_tokens': 91, 'output_tokens': 24, 'total_tokens': 115})]}}\n",
      "----\n",
      "{'tools': {'messages': [ToolMessage(content='[{\"url\": \"https://www.sportingnews.com/us/soccer/news/who-won-euro-2024-spain-england-oyarzabal/19ab0b3bf663194bc5193e50\", \"content\": \"Spain won the 2024 European Championship, becoming the first team to lift the trophy four times, beating England 2-1 thanks to a late winner from Mikel Oyarzabal.\"}, {\"url\": \"https://en.wikipedia.org/wiki/UEFA_Euro_2024_Final\", \"content\": \"The UEFA Euro 2024 final was a football match that determined the winners of UEFA Euro 2024.The match was the seventeenth final of the European Championship, a quadrennial tournament contested by the men\\'s national teams of the member associations of UEFA to decide the champions of Europe. The match was held at the Olympiastadion in Berlin, Germany, on 14 July 2024, and was contested by Spain\"}, {\"url\": \"https://www.cnn.com/2024/07/14/sport/spain-england-euro-2024-final-spt-intl/index.html\", \"content\": \"Spain won a record-breaking fourth European Championship, defeating England 2-1 following a drama-filled second half in the Euro 2024 final on Sunday in Berlin.\"}]', name='tavily_search_results_json', tool_call_id='call_E4dfQzVMzl8ZIw3AvgDqLZJv')]}}\n",
      "----\n",
      "{'agent': {'messages': [AIMessage(content=\"Spain won the 2024 European Championship by beating England 2-1. This victory marked Spain's fourth time lifting the trophy in the Eurocup. The winning goal was scored by Mikel Oyarzabal.\", response_metadata={'token_usage': {'completion_tokens': 46, 'prompt_tokens': 407, 'total_tokens': 453, 'completion_tokens_details': {'accepted_prediction_tokens': 0, 'audio_tokens': 0, 'reasoning_tokens': 0, 'rejected_prediction_tokens': 0}, 'prompt_tokens_details': {'audio_tokens': 0, 'cached_tokens': 0}}, 'model_name': 'gpt-3.5-turbo-0125', 'system_fingerprint': None, 'finish_reason': 'stop', 'logprobs': None}, id='run-77b0eb08-3882-48a1-9e13-2a4a674ff94e-0', usage_metadata={'input_tokens': 407, 'output_tokens': 46, 'total_tokens': 453})]}}\n",
      "----\n"
     ]
    }
   ],
   "source": [
    "for chunk in agent_executor.stream(\n",
    "    {\"messages\": [HumanMessage(content=\"Who won the 2024 soccer Eurocup?\")]}, config\n",
    "):\n",
    "    print(chunk)\n",
    "    print(\"----\")"
   ]
  },
  {
   "cell_type": "code",
   "execution_count": 14,
   "metadata": {},
   "outputs": [
    {
     "name": "stdout",
     "output_type": "stream",
     "text": [
      "{'agent': {'messages': [AIMessage(content='The top stars of the Spain national team, who won the 2024 Eurocup, included players like Mikel Oyarzabal, who scored the winning goal in the final against England. Other key players in the team might have included established stars like Sergio Ramos, Gerard Pique, Thiago Alcantara, and young talents like Pedri and Ferran Torres. The exact list of top stars can be found in detailed reports or analysis of the tournament.', response_metadata={'token_usage': {'completion_tokens': 95, 'prompt_tokens': 469, 'total_tokens': 564, 'completion_tokens_details': {'accepted_prediction_tokens': 0, 'audio_tokens': 0, 'reasoning_tokens': 0, 'rejected_prediction_tokens': 0}, 'prompt_tokens_details': {'audio_tokens': 0, 'cached_tokens': 0}}, 'model_name': 'gpt-3.5-turbo-0125', 'system_fingerprint': None, 'finish_reason': 'stop', 'logprobs': None}, id='run-5a8f8757-5147-4ef8-bc43-21efeba8472c-0', usage_metadata={'input_tokens': 469, 'output_tokens': 95, 'total_tokens': 564})]}}\n",
      "----\n"
     ]
    }
   ],
   "source": [
    "for chunk in agent_executor.stream(\n",
    "    {\"messages\": [HumanMessage(content=\"Who were the top stars of that winner team?\")]}, config\n",
    "):\n",
    "    print(chunk)\n",
    "    print(\"----\")"
   ]
  },
  {
   "cell_type": "code",
   "execution_count": 16,
   "metadata": {},
   "outputs": [
    {
     "name": "stdout",
     "output_type": "stream",
     "text": [
      "{'agent': {'messages': [AIMessage(content='We were talking about the Spain national soccer team, which won the 2024 European Championship (Eurocup).', response_metadata={'token_usage': {'completion_tokens': 24, 'prompt_tokens': 578, 'total_tokens': 602, 'completion_tokens_details': {'accepted_prediction_tokens': 0, 'audio_tokens': 0, 'reasoning_tokens': 0, 'rejected_prediction_tokens': 0}, 'prompt_tokens_details': {'audio_tokens': 0, 'cached_tokens': 0}}, 'model_name': 'gpt-3.5-turbo-0125', 'system_fingerprint': None, 'finish_reason': 'stop', 'logprobs': None}, id='run-b216ed49-2146-4cfe-9ffc-8ef85ec40f15-0', usage_metadata={'input_tokens': 578, 'output_tokens': 24, 'total_tokens': 602})]}}\n",
      "----\n"
     ]
    }
   ],
   "source": [
    "config = {\"configurable\": {\"thread_id\": \"001\"}}\n",
    "for chunk in agent_executor.stream(\n",
    "    {\"messages\": [HumanMessage(content=\"About what soccer team we were talking?\")]}, config\n",
    "):\n",
    "    print(chunk)\n",
    "    print(\"----\")"
   ]
  },
  {
   "cell_type": "code",
   "execution_count": null,
   "metadata": {},
   "outputs": [],
   "source": []
  }
 ],
 "metadata": {
  "kernelspec": {
   "display_name": "agentdemo",
   "language": "python",
   "name": "python3"
  },
  "language_info": {
   "codemirror_mode": {
    "name": "ipython",
    "version": 3
   },
   "file_extension": ".py",
   "mimetype": "text/x-python",
   "name": "python",
   "nbconvert_exporter": "python",
   "pygments_lexer": "ipython3",
   "version": "3.11.11"
  }
 },
 "nbformat": 4,
 "nbformat_minor": 2
}
